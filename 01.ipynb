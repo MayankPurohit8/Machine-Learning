{
 "cells": [
  {
   "cell_type": "code",
   "execution_count": null,
   "metadata": {},
   "outputs": [],
   "source": [
    "import pandas as pd\n",
    "import numpy as np\n",
    "import matplotlib.pyplot as plt\n",
    "import seaborn as sns\n",
    "%matplotlib inline\n",
    "\n",
    "data = {\n",
    "    'Age': [23, 25, 22, 30, 28, 35, 40, 23, 24, 22],\n",
    "    'Height': [165, 170, 160, 175, 180, 172, 168, 158, 165, 170],\n",
    "    'Weight': [65,70,60,75,80,72,68,58,65,70],\n",
    "    'Gender': ['Male','Female','Female','Male','Male','Female','Male','Female','Female','Male'],\n",
    "    'Smoker': ['No','Yes','No','No','Yes','No','Yes','No','Yes','No'],\n",
    "}\n",
    "df = pd.DataFrame(data)\n",
    "plt.figure(figsize=(8, 6))\n",
    "sns.boxplot(x='Gender', y='Height', data=df)\n",
    "plt.title(\"Boxplot of Height by Gender\")\n",
    "plt.show()\n"
   ]
  }
 ],
 "metadata": {
  "kernelspec": {
   "display_name": "Python 3",
   "language": "python",
   "name": "python3"
  },
  "language_info": {
   "codemirror_mode": {
    "name": "ipython",
    "version": 3
   },
   "file_extension": ".py",
   "mimetype": "text/x-python",
   "name": "python",
   "nbconvert_exporter": "python",
   "pygments_lexer": "ipython3",
   "version": "3.11.9"
  }
 },
 "nbformat": 4,
 "nbformat_minor": 2
}
